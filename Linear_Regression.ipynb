{
  "nbformat": 4,
  "nbformat_minor": 0,
  "metadata": {
    "colab": {
      "provenance": [],
      "collapsed_sections": [
        "NvQzrB2QUifs"
      ],
      "authorship_tag": "ABX9TyNMJJanVJG1hYnB857bm6kc",
      "include_colab_link": true
    },
    "kernelspec": {
      "name": "python3",
      "display_name": "Python 3"
    },
    "language_info": {
      "name": "python"
    }
  },
  "cells": [
    {
      "cell_type": "markdown",
      "metadata": {
        "id": "view-in-github",
        "colab_type": "text"
      },
      "source": [
        "<a href=\"https://colab.research.google.com/github/youneseltrach/ML_algo/blob/main/Linear_Regression.ipynb\" target=\"_parent\"><img src=\"https://colab.research.google.com/assets/colab-badge.svg\" alt=\"Open In Colab\"/></a>"
      ]
    },
    {
      "cell_type": "code",
      "source": [
        "import numpy as np\n",
        "import matplotlib.pyplot as plt"
      ],
      "metadata": {
        "id": "ilLcs-xSk1Zk"
      },
      "execution_count": 1,
      "outputs": []
    },
    {
      "cell_type": "markdown",
      "source": [
        "### 1) Linear regression with one variable\n",
        "\n"
      ],
      "metadata": {
        "id": "NvQzrB2QUifs"
      }
    },
    {
      "cell_type": "markdown",
      "source": [
        "1.1) **computing cost**\n",
        "> The cost function (loss function) allows us to return the average error between predictions outcomes and the actual outcomes.\n",
        "\n",
        "> The equation for cost with one variable is:\n",
        "  $$J(w,b) = \\frac{1}{2m} \\sum\\limits_{i = 0}^{m-1} (f_{w,b}(x^{(i)}) - y^{(i)})^2$$ \n",
        "\n",
        "> where \n",
        "$$f_{w,b}(x^{(i)}) = wx^{(i)} + b$$\n",
        "\n",
        "- $m$ number of training example\n",
        "- $x$ input variable / feature\n",
        "- $y$ output variable / target\n",
        "- $(x,y)$ one training example\n",
        "- $(x^{i},y^{i})$ $i$ row\n",
        "- $f_{w,b}(x^{(i)})$ is our prediction for example $i$ using parameters $w,b$.  \n",
        "- $(f_{w,b}(x^{(i)}) -y^{(i)})^2$ is the squared difference between the target value and the prediction.   \n",
        "- These differences are summed over all the $m$ examples and divided by `2m` to produce the cost, $J(w,b)$.  "
      ],
      "metadata": {
        "id": "yBgj5N8ih3oE"
      }
    },
    {
      "cell_type": "code",
      "execution_count": 6,
      "metadata": {
        "id": "XAguiWQJUhhh"
      },
      "outputs": [],
      "source": [
        "#cost function\n",
        "def cost_function (x,y,w,b):\n",
        "  \n",
        "  m = x.shape[0] # number of training example\n",
        "\n",
        "  cost = 0.\n",
        "\n",
        "  for i in range (m):\n",
        "    fun = w*x[i] + b # define the hypothesis or function predictor\n",
        "    err = (fun - y[i])\n",
        "    cost += cost + err**2\n",
        "\n",
        "  cost = 1/( 2*m) * cost\n",
        "\n",
        "  return cost"
      ]
    },
    {
      "cell_type": "markdown",
      "source": [
        "1.2) **Gradient descent**\n",
        "\n",
        "> Gradient descent used for minimazing the cost function and was described as:\n",
        "\n",
        "$$\\begin{align*} \\text{repeat}&\\text{ until convergence:} \\; \\lbrace \\newline\n",
        "\\;  w &= w -  \\alpha \\frac{\\partial J(w,b)}{\\partial w}  \\; \\newline \n",
        " b &= b -  \\alpha \\frac{\\partial J(w,b)}{\\partial b}  \\newline \\rbrace\n",
        "\\end{align*}$$\n",
        "\n",
        "> where the gradient is defined as:\n",
        "$$\n",
        "\\begin{align}\n",
        "\\frac{\\partial J(w,b)}{\\partial w}  &= \\frac{1}{m} \\sum\\limits_{i = 0}^{m-1} (f_{w,b}(x^{(i)}) - y^{(i)})x^{(i)} \\\\\n",
        "  \\frac{\\partial J(w,b)}{\\partial b}  &= \\frac{1}{m} \\sum\\limits_{i = 0}^{m-1} (f_{w,b}(x^{(i)}) - y^{(i)})\\\\\n",
        "\\end{align}\n",
        "$$\n",
        "\n",
        "> For implement the Gradient Descent algorithme, we need tree functions:\n",
        "*   `calcule_gradient`: to calculate the gradient\n",
        "*   `cost_function`:  to calculate the cost\n",
        "*   `gradient_descent`:  utilizing `calcule_gradient` and `cost_function`\n",
        "\n",
        "\n"
      ],
      "metadata": {
        "id": "_VzVk4KmmqTG"
      }
    },
    {
      "cell_type": "code",
      "source": [
        "# Calculate the gradient\n",
        "def calcule_gradient (x,y,w,b):\n",
        "  \n",
        "  m = x.shape[0] # size of training set\n",
        "  w_i = 0.\n",
        "  b_i = 0.\n",
        "\n",
        "  for i in range (m):\n",
        "    fun = w*x[i] + b  # hypothesis\n",
        "    err = fun - y[i]  # error\n",
        "    w_i += err*x[i]\n",
        "    b_i += err\n",
        "  \n",
        "  w_i = w_i/m\n",
        "  b_i = b_i/m\n",
        "\n",
        "  return w_i,b_i"
      ],
      "metadata": {
        "id": "m82-CeQorq0u"
      },
      "execution_count": 40,
      "outputs": []
    },
    {
      "cell_type": "markdown",
      "source": [
        "Now, we implemet the function of gradient descent for obtain the optimal values of $w$ and $b$ on the training set\n",
        "\n",
        "\n",
        "```\n",
        "Args:\n",
        "- x: training data\n",
        "- y: target data\n",
        "- w,b: initial values\n",
        "- itr: number of iteration for run the gradient descent\n",
        "- alpha: learning rate\n",
        "- cost_function\n",
        "- calcule_gradient\n",
        "```\n",
        "\n"
      ],
      "metadata": {
        "id": "aPcH-x2xtqtv"
      }
    },
    {
      "cell_type": "code",
      "source": [
        "# Implementing the Gradient Descent function\n",
        "def gradient_descent (x,y,w,b,itr,alpha, cost_function, calcule_gradient):\n",
        "\n",
        "  p_history = []     # paramerter history of all parameters (w,b)\n",
        "  cost_history = []  # cost of all the paramerter that changed\n",
        "\n",
        "  w_i = w\n",
        "  b_i = b\n",
        "\n",
        "  for i in range (itr):\n",
        "\n",
        "    w_g,b_g = calcule_gradient(x,y,w_i,b_i)\n",
        "\n",
        "    w_i = w_i -  alpha * w_g\n",
        "    b_i = b_i -  alpha * b_g\n",
        "\n",
        "    # calculate the cost function for this new parameters (w_i,b_i) and save it in cost_history\n",
        "    cost_history.append((cost_function(x,y,w_i,b_i)))\n",
        "    # save the new parameters in p_history\n",
        "    p_history.append ((w_i,b_i))\n",
        "\n",
        "    # print the cost and the paramter over iteration i\n",
        "    if i%1000 == 0:\n",
        "      print (f\"i = {i}  ,Cost = {cost_history[-1]} , (w,b) =({w_i,b_i})\")\n",
        "\n",
        "  return w_i, b_i, cost_history, p_history\n"
      ],
      "metadata": {
        "id": "LEF8sDGktQsD"
      },
      "execution_count": 167,
      "outputs": []
    },
    {
      "cell_type": "markdown",
      "source": [
        "1.3) **Testing**\n"
      ],
      "metadata": {
        "id": "jbBH9Fqu2LIx"
      }
    },
    {
      "cell_type": "code",
      "source": [
        "# generate data set \n",
        "x_train = np.array([1.0, 2.0])        #features\n",
        "y_train = np.array([300.0, 500.0])    #target value\n",
        "print ('x_train shape :',x_train.shape)\n",
        "print ('y_train shape :',y_train.shape)"
      ],
      "metadata": {
        "colab": {
          "base_uri": "https://localhost:8080/"
        },
        "id": "g73jN0D42OPW",
        "outputId": "730498e3-690c-4827-a890-44b7a3d10aba"
      },
      "execution_count": 168,
      "outputs": [
        {
          "output_type": "stream",
          "name": "stdout",
          "text": [
            "x_train shape : (2,)\n",
            "y_train shape : (2,)\n"
          ]
        }
      ]
    },
    {
      "cell_type": "markdown",
      "source": [
        "> Plotting data and hypothesis function with the following initial parameter $ (w=50, b=-12)$"
      ],
      "metadata": {
        "id": "VN4tT_BRUzWU"
      }
    },
    {
      "cell_type": "code",
      "source": [
        "w = 50\n",
        "b = -12\n",
        "fun = w*x_train+b \n",
        "fig, ax = plt.subplots (1,1,constrained_layout=True, figsize=(4,4))\n",
        "ax.scatter( x_train, y_train)\n",
        "ax.plot (x_train, fun, c= 'red' )"
      ],
      "metadata": {
        "colab": {
          "base_uri": "https://localhost:8080/",
          "height": 331
        },
        "id": "tVvebKY8UyRl",
        "outputId": "ff6c8836-49ae-420e-ab8e-449220ae8123"
      },
      "execution_count": 203,
      "outputs": [
        {
          "output_type": "execute_result",
          "data": {
            "text/plain": [
              "[<matplotlib.lines.Line2D at 0x7fcf5472a1f0>]"
            ]
          },
          "metadata": {},
          "execution_count": 203
        },
        {
          "output_type": "display_data",
          "data": {
            "text/plain": [
              "<Figure size 288x288 with 1 Axes>"
            ],
            "image/png": "[encoded data removed]"
          },
          "metadata": {
            "needs_background": "light"
          }
        }
      ]
    },
    {
      "cell_type": "code",
      "source": [
        "w = 0\n",
        "b = 0\n",
        "itr = 100\n",
        "alpha = 0.1\n",
        "w_final, b_final, all_cost, all_features = gradient_descent (x_train, y_train,w,b,itr, alpha, cost_function, calcule_gradient)\n",
        "print (w_final,b_final)"
      ],
      "metadata": {
        "colab": {
          "base_uri": "https://localhost:8080/"
        },
        "id": "W6HVRJ5r26e1",
        "outputId": "e46ae742-e858-46f9-c7e2-da316aae7573"
      },
      "execution_count": 211,
      "outputs": [
        {
          "output_type": "stream",
          "name": "stdout",
          "text": [
            "i = 0  ,Cost = 46237.5 , (w,b) =((65.0, 40.0))\n",
            "194.92334898582195 108.2141938899617\n"
          ]
        }
      ]
    },
    {
      "cell_type": "code",
      "source": [
        "# plot the loss function \n",
        "plt.plot (all_cost, np.arange(itr))"
      ],
      "metadata": {
        "colab": {
          "base_uri": "https://localhost:8080/",
          "height": 283
        },
        "id": "wu5TsqZdYXqB",
        "outputId": "15375054-bd33-4fb9-8a62-8a76d53e850a"
      },
      "execution_count": 216,
      "outputs": [
        {
          "output_type": "execute_result",
          "data": {
            "text/plain": [
              "[<matplotlib.lines.Line2D at 0x7fcf54243d00>]"
            ]
          },
          "metadata": {},
          "execution_count": 216
        },
        {
          "output_type": "display_data",
          "data": {
            "text/plain": [
              "<Figure size 432x288 with 1 Axes>"
            ],
            "image/png": "[encoded data removed]"
          },
          "metadata": {
            "needs_background": "light"
          }
        }
      ]
    },
    {
      "cell_type": "markdown",
      "source": [
        "Now we plot the data with the parameter finded by the gradient descent $(w\\_final, b\\_final)$"
      ],
      "metadata": {
        "id": "LFgNSVzGWzcP"
      }
    },
    {
      "cell_type": "code",
      "source": [
        "fun = w_final*x_train+b_final \n",
        "fig, ax = plt.subplots (1,1,constrained_layout=True, figsize=(4,4))\n",
        "ax.scatter( x_train, y_train)\n",
        "ax.plot (x_train, fun, c= 'red' )"
      ],
      "metadata": {
        "colab": {
          "base_uri": "https://localhost:8080/",
          "height": 331
        },
        "id": "rJ2D5IY6W0Vh",
        "outputId": "299d89c3-4141-411b-c2cb-5b00d78a0b81"
      },
      "execution_count": 210,
      "outputs": [
        {
          "output_type": "execute_result",
          "data": {
            "text/plain": [
              "[<matplotlib.lines.Line2D at 0x7fcf54480250>]"
            ]
          },
          "metadata": {},
          "execution_count": 210
        },
        {
          "output_type": "display_data",
          "data": {
            "text/plain": [
              "<Figure size 288x288 with 1 Axes>"
            ],
            "image/png": "[encoded data removed]"
          },
          "metadata": {
            "needs_background": "light"
          }
        }
      ]
    },
    {
      "cell_type": "markdown",
      "source": [
        "### 2) Linear regreassion with multiple variable"
      ],
      "metadata": {
        "id": "Sy1F2NDgU2sT"
      }
    },
    {
      "cell_type": "markdown",
      "source": [
        "> Linear regression with multiple variables is the same as one variable, the only think that is variate is the numbre of feature. \\\n",
        "We can represent the training example as a matrix as fallowing:\\\n",
        "\\\n",
        "$$\\mathbf{X} = \n",
        "\\begin{pmatrix}\n",
        " x^{(0)}_0 & x^{(0)}_1 & \\cdots & x^{(0)}_{n-1} \\\\ \n",
        " x^{(1)}_0 & x^{(1)}_1 & \\cdots & x^{(1)}_{n-1} \\\\\n",
        " \\cdots \\\\\n",
        " x^{(m-1)}_0 & x^{(m-1)}_1 & \\cdots & x^{(m-1)}_{n-1} \n",
        "\\end{pmatrix}\n",
        "$$ \\\n",
        "And the parameters $w_{i}$ varaiate with the number of features $n-1$ \\\n",
        "\\\n",
        "$$\\mathbf{w} = \\begin{pmatrix}\n",
        "w_0 \\\\ \n",
        "w_1 \\\\\n",
        "\\cdots\\\\\n",
        "w_{n-1}\n",
        "\\end{pmatrix}\n",
        "$$ \\\n",
        "Finally, we can represent the hypothesis/function as follow:\\\n",
        "$$ f_{\\mathbf{w},b}(\\mathbf{x}) =  w_0x_0 + w_1x_1 +... + w_{n-1}x_{n-1} + b $$ \\\n",
        "or in vector notation: \\\n",
        "$$ f_{\\mathbf{w},b}(\\mathbf{x}) = \\mathbf{w} \\cdot \\mathbf{x} + b  $$ \n",
        "where $\\cdot$ is a vector `dot product`\n",
        "\n",
        "\n"
      ],
      "metadata": {
        "id": "h0pTNq_MZDlT"
      }
    },
    {
      "cell_type": "markdown",
      "source": [
        "2.1) **computing cost** \\\n",
        "> The equation for the cost function with multiple variables $J(\\mathbf{w},b)$ is:\n",
        "$$J(\\mathbf{w},b) = \\frac{1}{2m} \\sum\\limits_{i = 0}^{m-1} (f_{\\mathbf{w},b}(\\mathbf{x}^{(i)}) - y^{(i)})^2 $$ \n",
        "where:\n",
        "$$ f_{\\mathbf{w},b}(\\mathbf{x}^{(i)}) = \\mathbf{w} \\cdot \\mathbf{x}^{(i)} + b $$  \\\n",
        "\\\n",
        "$\\mathbf{w}$ and $\\mathbf{x}^{(i)}$ are vectors rather than scalars supporting multiple features."
      ],
      "metadata": {
        "id": "flL_0Gshii21"
      }
    },
    {
      "cell_type": "code",
      "source": [
        "def cost_function_2 (x,y,w,b):\n",
        "  m = x.shape[0]\n",
        "  cost = 0.\n",
        "  for i in range (m):\n",
        "    fun = np.dot(x[i],w) + b  #hypothesis\n",
        "    err = fun - y[i]\n",
        "    cost = cost + err**2\n",
        "  cost = 1/ (2*m) * cost\n",
        "  return cost"
      ],
      "metadata": {
        "id": "eVhgAkk-VwsX"
      },
      "execution_count": 41,
      "outputs": []
    },
    {
      "cell_type": "markdown",
      "source": [
        "2.2) **Gradient descent** \\\n",
        "> Gradient descent for multiple linear is the same as the one variable, we change only the hypothesis function to vector. \\\n",
        "We follow the same step as in one varialbe, implementing function to calculate gradient `compute_gradient_2` and so create our function gradient descent `gradient_descent_2`."
      ],
      "metadata": {
        "id": "nzE3qRCRkuXf"
      }
    },
    {
      "cell_type": "code",
      "source": [
        "def compute_gradient_2 (x,y,w,b):\n",
        "  m,n = x.shape\n",
        "  w_i = np.zeros((n,))\n",
        "  b_i = 0.\n",
        "\n",
        "  for i in range (m):\n",
        "    fun = np.dot(x[i],w) + b\n",
        "    err = fun - y[i]\n",
        "\n",
        "    for j in range (n):\n",
        "      w_i[j] = w_i[j] + err*x[i,j]\n",
        "      \n",
        "    b_i = b_i + err\n",
        "\n",
        "  w_i = w_i/m\n",
        "  b_i = b_i/m\n",
        "\n",
        "  return w_i,b_i"
      ],
      "metadata": {
        "id": "qVW3ZeuelH7z"
      },
      "execution_count": 59,
      "outputs": []
    },
    {
      "cell_type": "code",
      "source": [
        "\n",
        "def gradient_descent_2 (x,y,w,b,itr,alpha, cost_function, compute_gradient):\n",
        "\n",
        "  cost_history = []\n",
        "  w_i = w\n",
        "  b_i = b\n",
        "  \n",
        "  for i in range (itr):\n",
        "    w_g, b_g = compute_gradient (x,y,w_i,b_i)\n",
        "\n",
        "    w_i = w_i - alpha * w_g\n",
        "    b_i = b_i - alpha * b_g\n",
        "\n",
        "    cost_history.append((cost_function(x,y,w_i,b_i)))\n",
        "\n",
        "    # print the cost and the paramter over iteration i\n",
        "    if i%1000 == 0:\n",
        "      print (f\"i = {i}  ,Cost = {cost_history[-1]}\")\n",
        "\n",
        "  return w_i, b_i, cost_history"
      ],
      "metadata": {
        "id": "ucUS9jCbnjJ4"
      },
      "execution_count": 60,
      "outputs": []
    },
    {
      "cell_type": "markdown",
      "source": [
        "2.3) **Testing**\n"
      ],
      "metadata": {
        "id": "DOATR1sPpZbp"
      }
    },
    {
      "cell_type": "code",
      "source": [
        "# generate data for testing\n",
        "x_train = np.array([[2104, 5, 1, 45], [1416, 3, 2, 40], [852, 2, 1, 35]])\n",
        "y_train = np.array([460, 232, 178])\n",
        "print(x_train,\"\\n\")\n",
        "print (y_train)"
      ],
      "metadata": {
        "colab": {
          "base_uri": "https://localhost:8080/"
        },
        "id": "K6U8Hdc8pVUh",
        "outputId": "b94fafe2-cd32-4c3b-c32c-4494ae89e1b1"
      },
      "execution_count": 44,
      "outputs": [
        {
          "output_type": "stream",
          "name": "stdout",
          "text": [
            "[[2104    5    1   45]\n",
            " [1416    3    2   40]\n",
            " [ 852    2    1   35]] \n",
            "\n",
            "[460 232 178]\n"
          ]
        }
      ]
    },
    {
      "cell_type": "code",
      "source": [
        "# dimension of X_train and y_train\n",
        "print ('shape of x_train :', x_train.shape)\n",
        "print ('shape of y_train :', y_train.shape)\n"
      ],
      "metadata": {
        "colab": {
          "base_uri": "https://localhost:8080/"
        },
        "id": "Hu2E3RaXpjUT",
        "outputId": "29928603-774c-4dc2-f9d1-8605761851fa"
      },
      "execution_count": 45,
      "outputs": [
        {
          "output_type": "stream",
          "name": "stdout",
          "text": [
            "shape of x_train : (3, 4)\n",
            "shape of y_train : (3,)\n"
          ]
        }
      ]
    },
    {
      "cell_type": "code",
      "source": [
        "# initialize parameters\n",
        "w = np.array([0.,0.,0., 0.])\n",
        "b = 0.\n",
        "iterations = 10\n",
        "alpha = 5.0e-7\n",
        "# run gradient descent \n",
        "w_final, b_final, all_cost = gradient_descent_2(x_train, y_train, w, b,iterations,alpha,cost_function_2, compute_gradient_2)"
      ],
      "metadata": {
        "colab": {
          "base_uri": "https://localhost:8080/"
        },
        "id": "DfU2ciSgpvw7",
        "outputId": "230072f2-5bb4-4790-af37-c76fe7c34008"
      },
      "execution_count": 76,
      "outputs": [
        {
          "output_type": "stream",
          "name": "stdout",
          "text": [
            "i = 0  ,Cost = 2529.46295223163\n"
          ]
        }
      ]
    },
    {
      "cell_type": "code",
      "source": [
        "w_final, b_final"
      ],
      "metadata": {
        "colab": {
          "base_uri": "https://localhost:8080/"
        },
        "id": "82_I01jVqz9x",
        "outputId": "f84c53ff-c78b-425f-9d7f-a0446073b291"
      },
      "execution_count": 77,
      "outputs": [
        {
          "output_type": "execute_result",
          "data": {
            "text/plain": [
              "(array([2.02184672e-01, 4.98191696e-04, 4.85540318e-05, 4.39075551e-03]),\n",
              " 9.93447426134968e-05)"
            ]
          },
          "metadata": {},
          "execution_count": 77
        }
      ]
    },
    {
      "cell_type": "code",
      "source": [
        "print(f\"b,w found by gradient descent: {b_final:0.2f},{w_final} \")\n"
      ],
      "metadata": {
        "colab": {
          "base_uri": "https://localhost:8080/"
        },
        "id": "VwgDttW_sSSK",
        "outputId": "02d73921-a1a5-476f-d16e-1451488a6e3f"
      },
      "execution_count": 78,
      "outputs": [
        {
          "output_type": "stream",
          "name": "stdout",
          "text": [
            "b,w found by gradient descent: 0.00,[2.02184672e-01 4.98191696e-04 4.85540318e-05 4.39075551e-03] \n"
          ]
        }
      ]
    },
    {
      "cell_type": "code",
      "source": [
        "m,_ = x_train.shape\n",
        "for i in range(m):\n",
        "    print(f\"prediction: {np.dot(x_train[i], w_final) + b_final:0.2f}, target value: {y_train[i]}\")"
      ],
      "metadata": {
        "colab": {
          "base_uri": "https://localhost:8080/"
        },
        "id": "vDiLSFXTs2tk",
        "outputId": "6807983d-a4f7-4297-86d1-4f5217da1a3c"
      },
      "execution_count": 79,
      "outputs": [
        {
          "output_type": "stream",
          "name": "stdout",
          "text": [
            "prediction: 425.60, target value: 460\n",
            "prediction: 286.47, target value: 232\n",
            "prediction: 172.42, target value: 178\n"
          ]
        }
      ]
    },
    {
      "cell_type": "code",
      "source": [
        "# plot the loss function\n",
        "plt.plot (all_cost, np.arange (iterations) )"
      ],
      "metadata": {
        "colab": {
          "base_uri": "https://localhost:8080/",
          "height": 283
        },
        "id": "WdPKMLPOtsa7",
        "outputId": "3d5cc930-6f8c-4977-8886-3f5d7de8d385"
      },
      "execution_count": 80,
      "outputs": [
        {
          "output_type": "execute_result",
          "data": {
            "text/plain": [
              "[<matplotlib.lines.Line2D at 0x7f87812dffd0>]"
            ]
          },
          "metadata": {},
          "execution_count": 80
        },
        {
          "output_type": "display_data",
          "data": {
            "text/plain": [
              "<Figure size 432x288 with 1 Axes>"
            ],
            "image/png": "[encoded data removed]"
          },
          "metadata": {
            "needs_background": "light"
          }
        }
      ]
    },
    {
      "cell_type": "code",
      "source": [],
      "metadata": {
        "id": "fycfOIcK2W36"
      },
      "execution_count": null,
      "outputs": []
    }
  ]
}