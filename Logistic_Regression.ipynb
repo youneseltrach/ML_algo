{
  "nbformat": 4,
  "nbformat_minor": 0,
  "metadata": {
    "colab": {
      "provenance": [],
      "authorship_tag": "ABX9TyOAfhBGqntYPc33cDtOuTz2",
      "include_colab_link": true
    },
    "kernelspec": {
      "name": "python3",
      "display_name": "Python 3"
    },
    "language_info": {
      "name": "python"
    }
  },
  "cells": [
    {
      "cell_type": "markdown",
      "metadata": {
        "id": "view-in-github",
        "colab_type": "text"
      },
      "source": [
        "<a href=\"https://colab.research.google.com/github/youneseltrach/ML_algo/blob/main/Logistic_Regression.ipynb\" target=\"_parent\"><img src=\"https://colab.research.google.com/assets/colab-badge.svg\" alt=\"Open In Colab\"/></a>"
      ]
    },
    {
      "cell_type": "code",
      "source": [
        "import numpy as np\n",
        "import matplotlib.pyplot as plt"
      ],
      "metadata": {
        "id": "uSUMrliwawSy"
      },
      "execution_count": 68,
      "outputs": []
    },
    {
      "cell_type": "markdown",
      "source": [
        "## sigmoid function\n",
        "> $$g(z) = \\frac{1}{1+e^{-z}}$$"
      ],
      "metadata": {
        "id": "K2GtFshMH8kV"
      }
    },
    {
      "cell_type": "code",
      "execution_count": 130,
      "metadata": {
        "id": "Kkd3vlTyafcZ"
      },
      "outputs": [],
      "source": [
        "#sigmoid function\n",
        "def sigmoid(z):\n",
        "  return 1/(1 + np.exp(-z))"
      ]
    },
    {
      "cell_type": "code",
      "source": [
        "# verify our sigmoid function\n",
        "sigmoid(0)"
      ],
      "metadata": {
        "colab": {
          "base_uri": "https://localhost:8080/"
        },
        "id": "DzGtsb1aa3hG",
        "outputId": "dda06646-7790-481c-f4c4-f04c07ac7e3b"
      },
      "execution_count": 133,
      "outputs": [
        {
          "output_type": "execute_result",
          "data": {
            "text/plain": [
              "0.5"
            ]
          },
          "metadata": {},
          "execution_count": 133
        }
      ]
    },
    {
      "cell_type": "markdown",
      "source": [
        "## Implementation of cost function\n",
        "> This is the cost function:\n",
        "\n",
        "$$ J(\\mathbf{w},b) = \\frac{1}{m}\\sum_{i=0}^{m-1} \\left[ (-y^{(i)} \\log\\left(f_{\\mathbf{w},b}\\left( \\mathbf{x}^{(i)} \\right) \\right) - \\left( 1 - y^{(i)}\\right) \\log \\left( 1 - f_{\\mathbf{w},b}\\left( \\mathbf{x}^{(i)} \\right) \\right) \\right] $$"
      ],
      "metadata": {
        "id": "HDViCIOBIL1C"
      }
    },
    {
      "cell_type": "code",
      "source": [
        "# cost function\n",
        "def cost_function (x,y,w,b):\n",
        "  m = x.shape[0]\n",
        "  cost = 0.0\n",
        "\n",
        "  for i in range (m):\n",
        "    fun = sigmoid (np.dot(x[i],w) + b)\n",
        "    cost = cost - y[i]*np.log(fun) - (1-y[i])*np.log(1-fun)\n",
        "  cost = cost / m\n",
        "  return cost"
      ],
      "metadata": {
        "id": "Fp9pe0pEa8hc"
      },
      "execution_count": 125,
      "outputs": []
    },
    {
      "cell_type": "markdown",
      "source": [
        "## Gradient descent\n",
        "> Gradient descent of logistic regression is the some as the linear regression, the only thing that is added is the sigmoid function.\n",
        "> The Gradient descent is: \\\n",
        "\\\n",
        "$$\\begin{align*}& \\text{repeat:} \\; \\lbrace \\newline \\; & b := b -  \\alpha \\frac{\\partial J(\\mathbf{w},b)}{\\partial b} \\newline       \\; & w_j := w_j -  \\alpha \\frac{\\partial J(\\mathbf{w},b)}{\\partial w_j}   \\; & \\text{for j := 0..n-1}\\newline & \\rbrace\\end{align*}$$\\\n",
        "> Where the gradient is:\n",
        "$$\n",
        "\\frac{\\partial J(\\mathbf{w},b)}{\\partial b}  = \\frac{1}{m} \\sum\\limits_{i = 0}^{m-1} (f_{\\mathbf{w},b}(\\mathbf{x}^{(i)}) - \\mathbf{y}^{(i)})\n",
        "$$\n",
        "$$\n",
        "\\frac{\\partial J(\\mathbf{w},b)}{\\partial w_j}  = \\frac{1}{m} \\sum\\limits_{i = 0}^{m-1} (f_{\\mathbf{w},b}(\\mathbf{x}^{(i)}) - \\mathbf{y}^{(i)})x_{j}^{(i)}\n",
        "$$\n",
        "> Now, for implement the gradient descent, we have first of all to develope de function for calculate the gradient `calculate_gradient`, than we use it in `gradient_descent`"
      ],
      "metadata": {
        "id": "VV0rw3VEK7VJ"
      }
    },
    {
      "cell_type": "code",
      "source": [
        "# calculate gradient\n",
        "def calculate_gradient (x,y,w,b):\n",
        "  m,n = x.shape\n",
        "\n",
        "  w_i = np.zeros((n,))\n",
        "  b_i = 0\n",
        "\n",
        "  for i in range (m):\n",
        "    fun = sigmoid ( np.dot( x[i], w ) + b )\n",
        "    err = fun - y[i]\n",
        "    for j in range (n):\n",
        "      w_i[j] = w_i[j] + err*x[i,j]\n",
        "    b_i = b_i + err\n",
        "  w_i = w_i/m\n",
        "  b_i = b_i/m\n",
        "  return w_i, b_i"
      ],
      "metadata": {
        "id": "PLomIFnbcNDY"
      },
      "execution_count": 127,
      "outputs": []
    },
    {
      "cell_type": "markdown",
      "source": [
        "> Gradient descent"
      ],
      "metadata": {
        "id": "ZsBRpK80NA2G"
      }
    },
    {
      "cell_type": "code",
      "source": [
        "# gradient descent\n",
        "def gradient_descent (x,y,w,b,itr, alpha, cost_function, calculate_gradient):\n",
        "\n",
        "  all_cost = []\n",
        "  w_i = w\n",
        "  b_i = b\n",
        "\n",
        "  for i in range (itr):\n",
        "    w_g, b_g = calculate_gradient(x,y,w_i,b_i)\n",
        "    w_i = w_i - alpha * w_g\n",
        "    b_i = b_i - alpha * b_g\n",
        "\n",
        "    all_cost.append(cost_function(x,y,w_i,b_i))\n",
        "\n",
        "    if i%1000 == 0:\n",
        "      print (f\"i = {i} ; cost = {all_cost[-1]}\")\n",
        "    \n",
        "  return w_i, b_i, all_cost"
      ],
      "metadata": {
        "id": "JoOSaBiEdzfG"
      },
      "execution_count": 47,
      "outputs": []
    },
    {
      "cell_type": "markdown",
      "source": [
        "## Test our algorithm"
      ],
      "metadata": {
        "id": "E9zVwMyCNIUK"
      }
    },
    {
      "cell_type": "code",
      "source": [
        "# generate data with 2 labels (0,1) \n",
        "x_train = np.array([[0.5, 1.5], [1,1], [1.5, 0.5], [3, 0.5], [2, 2], [1, 2.5]])\n",
        "y_train = np.array([0, 0, 0, 1, 1, 1])"
      ],
      "metadata": {
        "id": "utuwX6CdgKxq"
      },
      "execution_count": 128,
      "outputs": []
    },
    {
      "cell_type": "code",
      "source": [
        "# verify the dimention of our data\n",
        "print (f\"x_train :{x_train.shape}\")\n",
        "print (f\"y_train :{y_train.shape}\")"
      ],
      "metadata": {
        "colab": {
          "base_uri": "https://localhost:8080/"
        },
        "id": "6BgBIAlCNd2I",
        "outputId": "068cc1c6-86c7-4a3a-9f04-5f0760285e40"
      },
      "execution_count": 126,
      "outputs": [
        {
          "output_type": "stream",
          "name": "stdout",
          "text": [
            "x_train :(6, 2)\n",
            "y_train :(6,)\n"
          ]
        }
      ]
    },
    {
      "cell_type": "markdown",
      "source": [
        "> Now, lets call (train or fit) our function `gradient_descent` for minimazing the cost function and obtain the best values  for ($w_i,b$)"
      ],
      "metadata": {
        "id": "TGUpJROZNza4"
      }
    },
    {
      "cell_type": "code",
      "source": [
        "w  = np.zeros_like(x_train[0])\n",
        "b  = 0.\n",
        "alpha = 0.1\n",
        "itr = 10000\n",
        "w_final, b_final, all_cost = gradient_descent (x_train, y_train,w,b, itr, alpha, cost_function, calculate_gradient)\n",
        "print( f\"Paramater final (w,b) = ({w_final},{b_final})\")"
      ],
      "metadata": {
        "colab": {
          "base_uri": "https://localhost:8080/"
        },
        "id": "r0Bqzvv6hUAf",
        "outputId": "4b7c949d-6482-4ae8-906c-d277a63d9aa3"
      },
      "execution_count": 135,
      "outputs": [
        {
          "output_type": "stream",
          "name": "stdout",
          "text": [
            "i = 0 ; cost = 0.684610468560574\n",
            "i = 1000 ; cost = 0.1590977666870457\n",
            "i = 2000 ; cost = 0.08460064176930078\n",
            "i = 3000 ; cost = 0.05705327279402531\n",
            "i = 4000 ; cost = 0.04290759421682\n",
            "i = 5000 ; cost = 0.03433847729884557\n",
            "i = 6000 ; cost = 0.02860379802212006\n",
            "i = 7000 ; cost = 0.02450156960879306\n",
            "i = 8000 ; cost = 0.02142370332569295\n",
            "i = 9000 ; cost = 0.019030137124109114\n",
            "Paramater final (w,b) = ([5.28123029 5.07815608],-14.222409982019837)\n"
          ]
        }
      ]
    },
    {
      "cell_type": "markdown",
      "source": [
        "> Plot the cost function with iterations"
      ],
      "metadata": {
        "id": "rkerBIOuO8bX"
      }
    },
    {
      "cell_type": "code",
      "source": [
        "plt.plot(all_cost, np.arange(itr),c='red')\n",
        "plt.xlabel('Itrations')\n",
        "plt.ylabel('Cost function')\n",
        "plt.title('Loss function')\n",
        "plt.show()"
      ],
      "metadata": {
        "colab": {
          "base_uri": "https://localhost:8080/",
          "height": 295
        },
        "id": "E9dMOcY6PRDL",
        "outputId": "dc112675-1b09-432c-f13f-85f4aec37d50"
      },
      "execution_count": 137,
      "outputs": [
        {
          "output_type": "display_data",
          "data": {
            "text/plain": [
              "<Figure size 432x288 with 1 Axes>"
            ],
            "image/png": "[encoded data removed]"
          },
          "metadata": {
            "needs_background": "light"
          }
        }
      ]
    },
    {
      "cell_type": "markdown",
      "source": [
        "> lets develope the funtion for predictions"
      ],
      "metadata": {
        "id": "fx66LtKVP1h1"
      }
    },
    {
      "cell_type": "code",
      "source": [
        "#\n",
        "def predict (x,w,b):\n",
        "  m = x.shape[0]\n",
        "  p = np.zeros (m)\n",
        "\n",
        "  for i in range (m):\n",
        "    fun = sigmoid (np.dot(x[i],w)+b)\n",
        "    p[i] = 1 if fun > 0.5 else 0\n",
        "  \n",
        "  return p"
      ],
      "metadata": {
        "id": "g0IwZB0phlCs"
      },
      "execution_count": 119,
      "outputs": []
    },
    {
      "cell_type": "markdown",
      "source": [
        "> We give it the same x_train, and the paramerter final ($w\\_final, b\\_final$) and predict the result. We get the same values as in y_train."
      ],
      "metadata": {
        "id": "Ey3IPkfPQOIA"
      }
    },
    {
      "cell_type": "code",
      "source": [
        "predict(x_train,w_final, b_final)"
      ],
      "metadata": {
        "colab": {
          "base_uri": "https://localhost:8080/"
        },
        "id": "0ZZyS-6Kn17X",
        "outputId": "23d73c36-7ec1-4297-de07-1d8fec9c48ab"
      },
      "execution_count": 138,
      "outputs": [
        {
          "output_type": "execute_result",
          "data": {
            "text/plain": [
              "array([0., 0., 0., 1., 1., 1.])"
            ]
          },
          "metadata": {},
          "execution_count": 138
        }
      ]
    },
    {
      "cell_type": "markdown",
      "source": [
        "## Plot the decision boundary"
      ],
      "metadata": {
        "id": "ZK7kfWSwQuMn"
      }
    },
    {
      "cell_type": "code",
      "source": [
        "# get the parameter for linear function\n",
        "c = -b_final/w_final[1]    # the intercept\n",
        "m = -w_final[0]/w_final[1] # slop"
      ],
      "metadata": {
        "id": "0TNZ8wInrrY5"
      },
      "execution_count": 122,
      "outputs": []
    },
    {
      "cell_type": "code",
      "source": [
        "xmin, xmax = 0.5, 2.5 \n",
        "ymin, ymax = 0.5, 3\n",
        "x = np.array([xmin, xmax])\n",
        "# function final\n",
        "fun_linear = m*x + c "
      ],
      "metadata": {
        "id": "SwZ30G-XtgS-"
      },
      "execution_count": 139,
      "outputs": []
    },
    {
      "cell_type": "code",
      "source": [
        "plt.scatter (x_train[:,0],x_train[:,1])\n",
        "plt.plot(x, fun_linear, c = 'red', )"
      ],
      "metadata": {
        "colab": {
          "base_uri": "https://localhost:8080/",
          "height": 283
        },
        "id": "9Js0Q1pSto13",
        "outputId": "b6de735e-1c13-4876-f6a8-6090bd6f7c7c"
      },
      "execution_count": 140,
      "outputs": [
        {
          "output_type": "execute_result",
          "data": {
            "text/plain": [
              "[<matplotlib.lines.Line2D at 0x7f08f7c902e0>]"
            ]
          },
          "metadata": {},
          "execution_count": 140
        },
        {
          "output_type": "display_data",
          "data": {
            "text/plain": [
              "<Figure size 432x288 with 1 Axes>"
            ],
            "image/png": "[encoded data removed]"
          },
          "metadata": {
            "needs_background": "light"
          }
        }
      ]
    },
    {
      "cell_type": "code",
      "source": [],
      "metadata": {
        "id": "PXv95emCts5J"
      },
      "execution_count": 117,
      "outputs": []
    }
  ]
}